{
  "nbformat": 4,
  "nbformat_minor": 0,
  "metadata": {
    "colab": {
      "provenance": []
    },
    "kernelspec": {
      "name": "python3",
      "display_name": "Python 3"
    },
    "language_info": {
      "name": "python"
    }
  },
  "cells": [
    {
      "cell_type": "markdown",
      "source": [
        "### Linear Regression Model\n",
        "This notebook presents the training of a linear regression model using data obtained from four different text-to-video models on 35 different prompts. The model was trained using three customised metrics, namely, Naturalness Score, Text Similarity Score, and AP IoU score as features. The target column is represented by Human Score, which is the average of our human evaluation of all generated videos. The main objective of this notebook is to obtain weights for each of the metrics so that a weighted similarity score can be computed in the end."
      ],
      "metadata": {
        "id": "wJUikHPzUPJr"
      }
    },
    {
      "cell_type": "code",
      "source": [
        "import pandas as pd\n",
        "df1 = pd.read_csv('/content/HE - Aphantasia .csv')\n",
        "df2 = pd.read_csv('/content/HE - Text2Video Syn.csv')\n",
        "df3 = pd.read_csv('/content/HE - Tune-a-Video.csv')\n",
        "df4 = pd.read_csv('/content/HE - VideoCrafter.csv')\n",
        "df5 = pd.read_csv('/content/HE - VideoFusion.csv')\n",
        "merged_df = pd.concat([df1, df2, df3, df4, df5], axis=0)"
      ],
      "metadata": {
        "id": "AP53ImXGs5kq"
      },
      "execution_count": 1,
      "outputs": []
    },
    {
      "cell_type": "code",
      "source": [
        "merged_df.head()# drop columns \n",
        "df = merged_df.drop(['video_name', 'Blip_best_caption'], axis=1)\n",
        "df.head()"
      ],
      "metadata": {
        "colab": {
          "base_uri": "https://localhost:8080/",
          "height": 206
        },
        "id": "MzdoerS3uCjv",
        "outputId": "cc460e15-028f-4a81-907a-d9cf08187423"
      },
      "execution_count": 24,
      "outputs": [
        {
          "output_type": "execute_result",
          "data": {
            "text/plain": [
              "   naturalness_score  text_similarity_score  \\\n",
              "0           0.487272               0.343287   \n",
              "1           0.500697               0.364922   \n",
              "2           0.203332               0.540834   \n",
              "3           0.226778               0.233499   \n",
              "4           0.449496               0.581176   \n",
              "\n",
              "                                  Blip_best_caption    AP  \n",
              "0      a photo of a tropical forest covered in snow  0.00  \n",
              "1         an image of a colorful balloon in the air  0.04  \n",
              "2    a painting of two poodles playing in the water  0.00  \n",
              "3           a painting of a man and a woman running  0.00  \n",
              "4  a painting of a man riding a horse in the sunset  0.02  "
            ],
            "text/html": [
              "\n",
              "  <div id=\"df-50efd237-50ea-4502-a06d-cdc7f52c3cd2\">\n",
              "    <div class=\"colab-df-container\">\n",
              "      <div>\n",
              "<style scoped>\n",
              "    .dataframe tbody tr th:only-of-type {\n",
              "        vertical-align: middle;\n",
              "    }\n",
              "\n",
              "    .dataframe tbody tr th {\n",
              "        vertical-align: top;\n",
              "    }\n",
              "\n",
              "    .dataframe thead th {\n",
              "        text-align: right;\n",
              "    }\n",
              "</style>\n",
              "<table border=\"1\" class=\"dataframe\">\n",
              "  <thead>\n",
              "    <tr style=\"text-align: right;\">\n",
              "      <th></th>\n",
              "      <th>naturalness_score</th>\n",
              "      <th>text_similarity_score</th>\n",
              "      <th>Blip_best_caption</th>\n",
              "      <th>AP</th>\n",
              "    </tr>\n",
              "  </thead>\n",
              "  <tbody>\n",
              "    <tr>\n",
              "      <th>0</th>\n",
              "      <td>0.487272</td>\n",
              "      <td>0.343287</td>\n",
              "      <td>a photo of a tropical forest covered in snow</td>\n",
              "      <td>0.00</td>\n",
              "    </tr>\n",
              "    <tr>\n",
              "      <th>1</th>\n",
              "      <td>0.500697</td>\n",
              "      <td>0.364922</td>\n",
              "      <td>an image of a colorful balloon in the air</td>\n",
              "      <td>0.04</td>\n",
              "    </tr>\n",
              "    <tr>\n",
              "      <th>2</th>\n",
              "      <td>0.203332</td>\n",
              "      <td>0.540834</td>\n",
              "      <td>a painting of two poodles playing in the water</td>\n",
              "      <td>0.00</td>\n",
              "    </tr>\n",
              "    <tr>\n",
              "      <th>3</th>\n",
              "      <td>0.226778</td>\n",
              "      <td>0.233499</td>\n",
              "      <td>a painting of a man and a woman running</td>\n",
              "      <td>0.00</td>\n",
              "    </tr>\n",
              "    <tr>\n",
              "      <th>4</th>\n",
              "      <td>0.449496</td>\n",
              "      <td>0.581176</td>\n",
              "      <td>a painting of a man riding a horse in the sunset</td>\n",
              "      <td>0.02</td>\n",
              "    </tr>\n",
              "  </tbody>\n",
              "</table>\n",
              "</div>\n",
              "      <button class=\"colab-df-convert\" onclick=\"convertToInteractive('df-50efd237-50ea-4502-a06d-cdc7f52c3cd2')\"\n",
              "              title=\"Convert this dataframe to an interactive table.\"\n",
              "              style=\"display:none;\">\n",
              "        \n",
              "  <svg xmlns=\"http://www.w3.org/2000/svg\" height=\"24px\"viewBox=\"0 0 24 24\"\n",
              "       width=\"24px\">\n",
              "    <path d=\"M0 0h24v24H0V0z\" fill=\"none\"/>\n",
              "    <path d=\"M18.56 5.44l.94 2.06.94-2.06 2.06-.94-2.06-.94-.94-2.06-.94 2.06-2.06.94zm-11 1L8.5 8.5l.94-2.06 2.06-.94-2.06-.94L8.5 2.5l-.94 2.06-2.06.94zm10 10l.94 2.06.94-2.06 2.06-.94-2.06-.94-.94-2.06-.94 2.06-2.06.94z\"/><path d=\"M17.41 7.96l-1.37-1.37c-.4-.4-.92-.59-1.43-.59-.52 0-1.04.2-1.43.59L10.3 9.45l-7.72 7.72c-.78.78-.78 2.05 0 2.83L4 21.41c.39.39.9.59 1.41.59.51 0 1.02-.2 1.41-.59l7.78-7.78 2.81-2.81c.8-.78.8-2.07 0-2.86zM5.41 20L4 18.59l7.72-7.72 1.47 1.35L5.41 20z\"/>\n",
              "  </svg>\n",
              "      </button>\n",
              "      \n",
              "  <style>\n",
              "    .colab-df-container {\n",
              "      display:flex;\n",
              "      flex-wrap:wrap;\n",
              "      gap: 12px;\n",
              "    }\n",
              "\n",
              "    .colab-df-convert {\n",
              "      background-color: #E8F0FE;\n",
              "      border: none;\n",
              "      border-radius: 50%;\n",
              "      cursor: pointer;\n",
              "      display: none;\n",
              "      fill: #1967D2;\n",
              "      height: 32px;\n",
              "      padding: 0 0 0 0;\n",
              "      width: 32px;\n",
              "    }\n",
              "\n",
              "    .colab-df-convert:hover {\n",
              "      background-color: #E2EBFA;\n",
              "      box-shadow: 0px 1px 2px rgba(60, 64, 67, 0.3), 0px 1px 3px 1px rgba(60, 64, 67, 0.15);\n",
              "      fill: #174EA6;\n",
              "    }\n",
              "\n",
              "    [theme=dark] .colab-df-convert {\n",
              "      background-color: #3B4455;\n",
              "      fill: #D2E3FC;\n",
              "    }\n",
              "\n",
              "    [theme=dark] .colab-df-convert:hover {\n",
              "      background-color: #434B5C;\n",
              "      box-shadow: 0px 1px 3px 1px rgba(0, 0, 0, 0.15);\n",
              "      filter: drop-shadow(0px 1px 2px rgba(0, 0, 0, 0.3));\n",
              "      fill: #FFFFFF;\n",
              "    }\n",
              "  </style>\n",
              "\n",
              "      <script>\n",
              "        const buttonEl =\n",
              "          document.querySelector('#df-50efd237-50ea-4502-a06d-cdc7f52c3cd2 button.colab-df-convert');\n",
              "        buttonEl.style.display =\n",
              "          google.colab.kernel.accessAllowed ? 'block' : 'none';\n",
              "\n",
              "        async function convertToInteractive(key) {\n",
              "          const element = document.querySelector('#df-50efd237-50ea-4502-a06d-cdc7f52c3cd2');\n",
              "          const dataTable =\n",
              "            await google.colab.kernel.invokeFunction('convertToInteractive',\n",
              "                                                     [key], {});\n",
              "          if (!dataTable) return;\n",
              "\n",
              "          const docLinkHtml = 'Like what you see? Visit the ' +\n",
              "            '<a target=\"_blank\" href=https://colab.research.google.com/notebooks/data_table.ipynb>data table notebook</a>'\n",
              "            + ' to learn more about interactive tables.';\n",
              "          element.innerHTML = '';\n",
              "          dataTable['output_type'] = 'display_data';\n",
              "          await google.colab.output.renderOutput(dataTable, element);\n",
              "          const docLink = document.createElement('div');\n",
              "          docLink.innerHTML = docLinkHtml;\n",
              "          element.appendChild(docLink);\n",
              "        }\n",
              "      </script>\n",
              "    </div>\n",
              "  </div>\n",
              "  "
            ]
          },
          "metadata": {},
          "execution_count": 24
        }
      ]
    },
    {
      "cell_type": "code",
      "execution_count": 17,
      "metadata": {
        "colab": {
          "base_uri": "https://localhost:8080/",
          "height": 520
        },
        "id": "GT0aSlKBs12i",
        "outputId": "555ad98e-323a-4a2a-b250-de28d1cb5c49"
      },
      "outputs": [
        {
          "output_type": "stream",
          "name": "stdout",
          "text": [
            "Model accuracy: 0.3351412104663305\n"
          ]
        },
        {
          "output_type": "display_data",
          "data": {
            "text/plain": [
              "<Figure size 800x550 with 1 Axes>"
            ],
            "image/png": "[encoded data removed]"
          },
          "metadata": {}
        }
      ],
      "source": [
        "from sklearn.linear_model import LinearRegression\n",
        "from sklearn.model_selection import train_test_split\n",
        "from sklearn.preprocessing import MinMaxScaler\n",
        "import pandas as pd\n",
        "\n",
        "# Split your data into features and target\n",
        "features = df.drop('Human Score', axis=1)\n",
        "target = df[['Human Score']]\n",
        "\n",
        "# Rescale the target column to min-max\n",
        "scaler = MinMaxScaler()\n",
        "target = scaler.fit_transform(target)\n",
        "\n",
        "# Split your data into training and testing sets\n",
        "X_train, X_test, y_train, y_test = train_test_split(features, target, test_size=0.2, random_state=42)\n",
        "\n",
        "# Choose and train your model\n",
        "model = LinearRegression()\n",
        "model.fit(X_train, y_train)\n",
        "\n",
        "# Evaluate your model\n",
        "y_pred = model.predict(X_test)\n",
        "score = model.score(X_test, y_test)\n",
        "print(\"Model accuracy:\", score) # R2\n",
        "\n",
        "# Get the feature weights\n",
        "feature_weights = model.coef_[0]\n",
        "\n",
        "# Rescale the feature weights so they add up to 1\n",
        "feature_weights_rescaled = feature_weights / sum(feature_weights)\n",
        "\n",
        "# Create a dataframe with feature names and rescaled weights\n",
        "weights_df = pd.DataFrame({'Feature': X_train.columns, 'Weight': feature_weights_rescaled})\n",
        "\n",
        "# Plot the rescaled feature weights\n",
        "import seaborn as sns\n",
        "import matplotlib.pyplot as plt\n",
        "sns.barplot(x='Weight', y='Feature', data=weights_df)\n",
        "plt.show()"
      ]
    },
    {
      "cell_type": "code",
      "source": [
        "feature_weights_rescaled"
      ],
      "metadata": {
        "colab": {
          "base_uri": "https://localhost:8080/"
        },
        "id": "CE4HCexa0Csn",
        "outputId": "8be29a94-6c12-4634-92f6-b99b90d6ccf3"
      },
      "execution_count": 22,
      "outputs": [
        {
          "output_type": "execute_result",
          "data": {
            "text/plain": [
              "array([ 0.54584333,  0.46193088, -0.00777421])"
            ]
          },
          "metadata": {},
          "execution_count": 22
        }
      ]
    },
    {
      "cell_type": "markdown",
      "source": [
        "These weights will be utilized to calculate the weighted average score for text-to-video evaluation for our customized metric.\n",
        "Image Naturalness weight: 0.54584333\n",
        "Text Similarity weight: 0.46193088\n",
        "Ap AoI weight: -0.00777421"
      ],
      "metadata": {
        "id": "BYFThQhoU2Jg"
      }
    },
    {
      "cell_type": "markdown",
      "source": [
        "### Liner Regression Model Performance Plot"
      ],
      "metadata": {
        "id": "W84nqWVcVFv9"
      }
    },
    {
      "cell_type": "code",
      "source": [
        "import seaborn as sns\n",
        "# Make predictions on the test set\n",
        "y_pred = model.predict(X_test)\n",
        "# Calculate residuals\n",
        "residuals = y_test - y_pred\n",
        "# Plot residuals vs predicted values\n",
        "sns.residplot(x=y_pred, y=residuals, lowess=True, scatter_kws={'alpha': 0.5}, line_kws={'color': 'red', 'lw': 1, 'alpha': 0.8})"
      ],
      "metadata": {
        "colab": {
          "base_uri": "https://localhost:8080/",
          "height": 501
        },
        "id": "uWSeUX-yzt8h",
        "outputId": "f526ab90-4c31-4ce3-985b-b09b42aadc63"
      },
      "execution_count": 19,
      "outputs": [
        {
          "output_type": "execute_result",
          "data": {
            "text/plain": [
              "<Axes: >"
            ]
          },
          "metadata": {},
          "execution_count": 19
        },
        {
          "output_type": "display_data",
          "data": {
            "text/plain": [
              "<Figure size 800x550 with 1 Axes>"
            ],
            "image/png": "[encoded data removed]"
          },
          "metadata": {}
        }
      ]
    }
  ]
}